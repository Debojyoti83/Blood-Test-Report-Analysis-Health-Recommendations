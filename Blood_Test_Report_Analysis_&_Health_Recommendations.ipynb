{
  "nbformat": 4,
  "nbformat_minor": 0,
  "metadata": {
    "colab": {
      "provenance": [],
      "gpuType": "T4",
      "authorship_tag": "ABX9TyNMCki7FI9aE0AgMjp1QRbY",
      "include_colab_link": true
    },
    "kernelspec": {
      "name": "python3",
      "display_name": "Python 3"
    },
    "language_info": {
      "name": "python"
    },
    "accelerator": "GPU"
  },
  "cells": [
    {
      "cell_type": "markdown",
      "metadata": {
        "id": "view-in-github",
        "colab_type": "text"
      },
      "source": [
        "<a href=\"https://colab.research.google.com/github/Debojyoti83/Blood-Test-Report-Analysis-Health-Recommendations/blob/main/Blood_Test_Report_Analysis_%26_Health_Recommendations.ipynb\" target=\"_parent\"><img src=\"https://colab.research.google.com/assets/colab-badge.svg\" alt=\"Open In Colab\"/></a>"
      ]
    },
    {
      "cell_type": "markdown",
      "source": [
        "#**Blood Test Report Analysis & Health Recommendations**"
      ],
      "metadata": {
        "id": "oEFplqKmadMj"
      }
    },
    {
      "cell_type": "code",
      "source": [
        "# Install necessary libraries\n",
        "!pip install crewai\n",
        "!pip install crewai_tools"
      ],
      "metadata": {
        "id": "_BpvVMU6aeJz"
      },
      "execution_count": null,
      "outputs": []
    },
    {
      "cell_type": "code",
      "source": [
        "import os\n",
        "import json\n",
        "import requests\n",
        "from crewai import Agent, Task, Crew\n",
        "from crewai_tools import FileReadTool, PDFSearchTool\n",
        "\n",
        "# Set up API keys\n",
        "os.environ[\"GOOGLE_API_KEY\"] = \"#################################\"\n",
        "os.environ[\"CUSTOM_SEARCH_ENGINE_ID\"] = \"####################\"\n",
        "os.environ[\"OPENAI_API_KEY\"] = \"dummy_key\"  # Set a dummy key to bypass the check because using free api\n",
        "class CustomGoogleSearchTool:\n",
        "    \"\"\"Custom tool to perform Google searches using the Custom Search API.\"\"\"\n",
        "\n",
        "    def __init__(self, api_key, cx):\n",
        "        self.api_key = api_key\n",
        "        self.cx = cx\n",
        "\n",
        "    def search(self, query, num_results=5):\n",
        "        \"\"\"Performs a search using the Google Custom Search API and returns the results.\"\"\"\n",
        "        search_url = \"https://www.googleapis.com/customsearch/v1\"\n",
        "        params = {\n",
        "            'key': self.api_key,\n",
        "            'cx': self.cx,\n",
        "            'q': query,\n",
        "            'num': num_results,\n",
        "        }\n",
        "        try:\n",
        "            response = requests.get(search_url, params=params)\n",
        "            response.raise_for_status()\n",
        "            results = response.json()\n",
        "            return results.get('items', [])\n",
        "        except requests.RequestException as e:\n",
        "            print(f\"Error during Google search: {e}\")\n",
        "            return []\n",
        "\n",
        "def create_agents_and_tools():\n",
        "    \"\"\"Creates agents and tools needed for the crew.\"\"\"\n",
        "\n",
        "    pdf_read_tool = PDFSearchTool()\n",
        "    file_tool = FileReadTool()\n",
        "    search_tool = CustomGoogleSearchTool(\n",
        "        api_key=os.environ[\"GOOGLE_API_KEY\"],\n",
        "        cx=os.environ[\"CUSTOM_SEARCH_ENGINE_ID\"]\n",
        "    )\n",
        "\n",
        "    blood_report_analyst = Agent(\n",
        "        role='Blood Report Analyst',\n",
        "        goal='Analyze the given blood test report and summarize key points.',\n",
        "        backstory='You are an experienced analyst who identifies key health indicators from blood tests.',\n",
        "        tools=[pdf_read_tool],\n",
        "        allow_delegation=False,\n",
        "        verbose=True\n",
        "    )\n",
        "\n",
        "    health_advisor = Agent(\n",
        "        role='Health Advisor',\n",
        "        goal='Provide health recommendations based on the summary and related articles.',\n",
        "        backstory='You provide practical health advice by integrating medical data and article findings.',\n",
        "        tools=[search_tool, file_tool],\n",
        "        allow_delegation=False,\n",
        "        verbose=True\n",
        "    )\n",
        "\n",
        "    return blood_report_analyst, health_advisor\n",
        "\n",
        "def create_tasks(blood_report_analyst, health_advisor):\n",
        "    \"\"\"Creates tasks for analyzing the blood report and generating health recommendations.\"\"\"\n",
        "\n",
        "    analyse_blood_report_task = Task(\n",
        "        description='Analyze the blood test report and summarize key health indicators and findings.',\n",
        "        expected_output='A JSON string summarizing the key points from the blood test.',\n",
        "        agent=blood_report_analyst\n",
        "    )\n",
        "\n",
        "    generate_feedback_task = Task(\n",
        "        description='Provide health recommendations based on the blood report and relevant articles. Include source URLs.',\n",
        "        expected_output='A JSON string containing health recommendations and relevant article URLs.',\n",
        "        agent=health_advisor,\n",
        "        context=[analyse_blood_report_task]\n",
        "    )\n",
        "\n",
        "    return analyse_blood_report_task, generate_feedback_task\n",
        "\n",
        "def main():\n",
        "    # Create agents and tasks\n",
        "    blood_report_analyst, health_advisor = create_agents_and_tools()\n",
        "    analyse_blood_report_task, generate_feedback_task = create_tasks(blood_report_analyst, health_advisor)\n",
        "\n",
        "    # Assemble the crew\n",
        "    crew = Crew(\n",
        "        agents=[blood_report_analyst, health_advisor],\n",
        "        tasks=[analyse_blood_report_task, generate_feedback_task],\n",
        "        verbose=2\n",
        "    )\n",
        "\n",
        "    # PDF path (input)\n",
        "    pdf_path = r\"C:\\Users\\sende\\Downloads\\WM17S.pdf\"  # actual PDF path\n",
        "\n",
        "    # Execute tasks\n",
        "    try:\n",
        "        result = crew.kickoff(inputs={'pdf_file': pdf_path})\n",
        "\n",
        "        # Parse the result (assuming it's a JSON string)\n",
        "        try:\n",
        "            parsed_result = json.loads(result)\n",
        "\n",
        "            # Save the result to a file\n",
        "            output_path = r\"C:\\Users\\sende\\Downloads\\health_recommendations.json\"  # desired output path\n",
        "            with open(output_path, 'w') as f:\n",
        "                json.dump(parsed_result, f, indent=4)\n",
        "            print(f\"Results saved to {output_path}\")\n",
        "        except json.JSONDecodeError:\n",
        "            print(\"Error: The result is not a valid JSON string.\")\n",
        "            print(\"Raw result:\", result)\n",
        "    except Exception as e:\n",
        "        print(f\"An error occurred during execution: {e}\")\n",
        "\n",
        "if __name__ == \"__main__\":\n",
        "    main()"
      ],
      "metadata": {
        "id": "lYnTID47YZ_e"
      },
      "execution_count": null,
      "outputs": []
    }
  ]
}